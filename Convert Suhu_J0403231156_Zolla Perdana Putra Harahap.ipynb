{
 "cells": [
  {
   "cell_type": "markdown",
   "metadata": {},
   "source": [
    "Nama : Zolla Perdana Putra Harahap\n",
    "NIM : J0403231156\n",
    "\n",
    "Convert Suhu"
   ]
  },
  {
   "cell_type": "code",
   "execution_count": 1,
   "metadata": {},
   "outputs": [
    {
     "name": "stdout",
     "output_type": "stream",
     "text": [
      "Nilai suhu yang sudah dikonversi: 1652.0 Fahrenheit\n"
     ]
    }
   ],
   "source": [
    "def konversi_suhu():\n",
    "    try:\n",
    "        suhu = float(input(\"Masukkan nilai suhu: \"))\n",
    "        skala_awal = input(\"Pilih skala awal ('C' untuk Celsius, 'F' untuk Fahrenheit): \").upper()\n",
    "\n",
    "        if skala_awal not in ('C', 'F'):\n",
    "            raise ValueError(\"Skala awal yang dimasukkan tidak valid. Gunakan 'C' untuk Celsius atau 'F' untuk Fahrenheit.\")\n",
    "\n",
    "        if skala_awal == 'C':\n",
    "            suhu_terkonversi = (suhu * 9/5) + 32\n",
    "            skala_terkonversi = 'Fahrenheit'\n",
    "        else:\n",
    "            suhu_terkonversi = (suhu - 32) * 5/9\n",
    "            skala_terkonversi = 'Celsius'\n",
    "\n",
    "        print(f\"Nilai suhu yang sudah dikonversi: {suhu_terkonversi} {skala_terkonversi}\")\n",
    "    except ValueError as e:\n",
    "        print(f\"Terjadi kesalahan: {e}\")\n",
    "if __name__ == \"__main__\":\n",
    "    konversi_suhu()\n"
   ]
  }
 ],
 "metadata": {
  "kernelspec": {
   "display_name": "Python 3",
   "language": "python",
   "name": "python3"
  },
  "language_info": {
   "codemirror_mode": {
    "name": "ipython",
    "version": 3
   },
   "file_extension": ".py",
   "mimetype": "text/x-python",
   "name": "python",
   "nbconvert_exporter": "python",
   "pygments_lexer": "ipython3",
   "version": "3.11.6"
  },
  "orig_nbformat": 4
 },
 "nbformat": 4,
 "nbformat_minor": 2
}
